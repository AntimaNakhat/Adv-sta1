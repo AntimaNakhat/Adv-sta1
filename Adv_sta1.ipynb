{
  "nbformat": 4,
  "nbformat_minor": 0,
  "metadata": {
    "colab": {
      "provenance": []
    },
    "kernelspec": {
      "name": "python3",
      "display_name": "Python 3"
    },
    "language_info": {
      "name": "python"
    }
  },
  "cells": [
    {
      "cell_type": "markdown",
      "source": [
        "**1. Explain the properties of the F-distribution.**\n",
        "\n",
        "\n",
        "# Properties of the F-distribution:\n",
        "\n",
        "Right-skewed distribution.\n",
        "\n",
        "Non-negative values (F ≥ 0).\n",
        "\n",
        "Shape depends on degrees of freedom (df1 for numerator, df2 for denominator).\n",
        "\n",
        "As df increases, it becomes more symmetric.\n",
        "\n",
        "Used to compare variances.\n",
        "\n",
        "\n",
        "**2. In which types of statistical tests is the F-distribution used, and why is it appropriate for these tests?**\n",
        "\n",
        "\n",
        "# Statistical tests using F-distribution:\n",
        "\n",
        "ANOVA (Analysis of Variance): Tests if group means differ.\n",
        "\n",
        "F-test for equal variances: Compares variances of two populations.\n",
        "\n",
        "Why appropriate: F-distribution arises from the ratio of two independent chi-squared distributions, appropriate for variance comparison.\n",
        "\n",
        "**3. What are the key assumptions required for conducting an F-test to compare the variances of two populations?**\n",
        "\n",
        "# Assumptions for F-test:\n",
        "\n",
        "Independent samples.\n",
        "\n",
        "Normal distribution of populations.\n",
        "\n",
        "Equal sample sizes (for best results, though not required).\n",
        "\n",
        "Populations have equal variances (for ANOVA).\n",
        "\n",
        "\n",
        "**4. What is the purpose of ANOVA, and how does it differ from a t-test?**\n",
        "\n",
        "# Purpose of ANOVA vs. t-test:\n",
        "\n",
        "ANOVA: Compares means of 3 or more groups.\n",
        "\n",
        "t-test: Compares means of 2 groups.\n",
        "\n",
        "Difference: ANOVA avoids inflation of Type I error that occurs with multiple t-tests.\n",
        "\n",
        "**5. Explain when and why you would use a one-way ANOVA instead of multiple t-tests when comparing more than two groups.**\n",
        "\n",
        "\n",
        "# Why use one-way ANOVA instead of multiple t-tests:\n",
        "\n",
        "One-way ANOVA tests all groups simultaneously.\n",
        "\n",
        "Multiple t-tests increase the chance of Type I error.\n",
        "\n",
        "ANOVA provides a single test statistic to determine if at least one group differs.\n",
        "\n",
        "**6. Explain how variance is partitioned in ANOVA into between-group variance and within-group variance. How does this partitioning contribute to the calculation of the F-statistic?**\n",
        "\n",
        "# Variance partitioning in ANOVA:\n",
        "\n",
        "Between-group variance: Variance due to differences between group means.\n",
        "\n",
        "Within-group variance: Variance within each group.\n",
        "\n",
        "F-statistic: Ratio of between-group variance to within-group variance. If the ratio is high, it indicates significant differences between group means.\n",
        "\n",
        "\n",
        "\n",
        "**7. Compare the classical (frequentist) approach to ANOVA with the Bayesian approach. What are the key differences in terms of how they handle uncertainty, parameter estimation, and hypothesis testing?**\n",
        "\n",
        "\n",
        "# Classical vs. Bayesian ANOVA:\n",
        "\n",
        "Classical (Frequentist) ANOVA: Uses F-distribution to test hypotheses, assumes fixed population parameters.\n",
        "\n",
        "Bayesian ANOVA: Incorporates prior distributions, provides probabilistic estimates of parameters, and quantifies uncertainty differently.\n",
        "\n",
        "Key difference: Bayesian approach integrates prior beliefs into the analysis, while classical focuses solely on the data."
      ],
      "metadata": {
        "id": "bRXEUz--NmQq"
      }
    },
    {
      "cell_type": "markdown",
      "source": [
        "8. Question: You have two sets of data representing the incomes of two different professions\n",
        "\n",
        "V Profession A: [48, 52, 55, 60, 62']\n",
        "\n",
        "V Profession B: [45, 50, 55, 52, 47]\n",
        "\n",
        "Perform an F-test to determine if the variances of the two professions'\n",
        "incomes are equal. What are your conclusions based on the F-test?"
      ],
      "metadata": {
        "id": "yEit3tUu6gDm"
      }
    },
    {
      "cell_type": "code",
      "execution_count": null,
      "metadata": {
        "id": "7vgb_jqoNj1o",
        "colab": {
          "base_uri": "https://localhost:8080/"
        },
        "outputId": "dff9714e-8ccc-4b2e-e4e5-d88db128f212"
      },
      "outputs": [
        {
          "output_type": "stream",
          "name": "stdout",
          "text": [
            "F-statistic: 3.232989690721649, p-value: 0.10987970118946545\n"
          ]
        }
      ],
      "source": [
        "import scipy.stats as stats\n",
        "\n",
        "\n",
        "A = [48, 52, 55, 60, 62]\n",
        "B = [45, 50, 55, 52, 47]\n",
        "\n",
        "# F-test (var(A) / var(B))\n",
        "F_statistic, p_value = stats.f_oneway(A, B)\n",
        "\n",
        "print(f\"F-statistic: {F_statistic}, p-value: {p_value}\")\n"
      ]
    },
    {
      "cell_type": "markdown",
      "source": [
        "9. Conduct a one-way ANOVA to test whether there are any statistically significant differences in\n",
        "average heights between three different regions with the following data\n",
        "\n",
        "V Region A: [160, 162, 165, 158, 164]\n",
        "\n",
        "V Region B: [172, 175, 170, 168, 174]\n",
        "\n",
        "V Region C: [180, 182, 179, 185, 183]"
      ],
      "metadata": {
        "id": "YsxTtJvv7XnE"
      }
    },
    {
      "cell_type": "code",
      "source": [
        "import scipy.stats as stats\n",
        "\n",
        "\n",
        "Region_A = [160, 162, 165, 158, 164]\n",
        "Region_B = [172, 175, 170, 168, 174]\n",
        "Region_C = [180, 182, 179, 185, 183]\n",
        "\n",
        "# Perform one-way ANOVA\n",
        "F_statistic, p_value = stats.f_oneway(Region_A, Region_B, Region_C)\n",
        "\n",
        "print(f\"F-statistic: {F_statistic}, p-value: {p_value}\")\n"
      ],
      "metadata": {
        "colab": {
          "base_uri": "https://localhost:8080/"
        },
        "id": "sZCCnieo69Xl",
        "outputId": "7601a534-60dd-438a-d77e-08c1ed49400f"
      },
      "execution_count": null,
      "outputs": [
        {
          "output_type": "stream",
          "name": "stdout",
          "text": [
            "F-statistic: 67.87330316742101, p-value: 2.870664187937026e-07\n"
          ]
        }
      ]
    },
    {
      "cell_type": "code",
      "source": [],
      "metadata": {
        "id": "pY6ZZ830Vnub"
      },
      "execution_count": null,
      "outputs": []
    }
  ]
}